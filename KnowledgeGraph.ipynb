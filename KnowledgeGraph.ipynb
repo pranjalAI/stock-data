{
 "cells": [
  {
   "cell_type": "code",
   "execution_count": 27,
   "metadata": {},
   "outputs": [],
   "source": [
    "import re\n",
    "import pandas as pd\n",
    "import bs4\n",
    "import requests\n",
    "import spacy\n",
    "from spacy import displacy\n",
    "nlp = spacy.load('en_core_web_sm')\n",
    "\n",
    "from spacy.matcher import Matcher \n",
    "from spacy.tokens import Span \n",
    "\n",
    "import networkx as nx\n",
    "\n",
    "import matplotlib.pyplot as plt\n",
    "from tqdm import tqdm\n",
    "\n",
    "pd.set_option('display.max_colwidth', 200)\n",
    "%matplotlib inline\n",
    "\n",
    "import numpy as np\n",
    "import random\n",
    "import json\n",
    "import re\n",
    "from torch.utils.data import Dataset, DataLoader\n",
    "\n",
    "import nltk\n",
    "from selenium import webdriver\n",
    "from pprint import pprint\n",
    "import requests \n",
    "from bs4 import BeautifulSoup\n",
    "import unicodedata\n",
    "import pandas as pd\n",
    "import ast\n",
    "\n",
    "import nltk\n",
    "from nltk.corpus import stopwords"
   ]
  },
  {
   "cell_type": "code",
   "execution_count": 28,
   "metadata": {},
   "outputs": [],
   "source": [
    "def unicode(text):\n",
    "    return unicodedata.normalize(\"NFKD\", text)\n",
    "\n",
    "def processQues(chat):\n",
    "    chat = chat.lower()\n",
    "    chat = re.sub('((www\\.[^\\s]+)|(https?://[^\\s]+))','',chat)\n",
    "    chat = re.sub('@[^\\s]+','',chat)\n",
    "    chat = re.sub('[\\s]+', ' ', chat)\n",
    "    chat = re.sub('\\[\\d+\\]+', ' ', chat)\n",
    "    chat = re.sub(r'#([^\\s]+)', r'\\1', chat)\n",
    "    chat = re.sub(r'[\\!:\\?\\-\\'\\\"\\\\/]', r'', chat)\n",
    "    chat = chat.strip('\\'\"')\n",
    "    return chat\n",
    "\n",
    "def get_relation(sent):\n",
    "    doc = nlp(sent)\n",
    "    matcher = Matcher(nlp.vocab)\n",
    "    pattern = [{'DEP':'ROOT'}, \n",
    "            {'DEP':'prep','OP':\"?\"},\n",
    "            {'DEP':'agent','OP':\"?\"},  \n",
    "            {'POS':'ADJ','OP':\"?\"}] \n",
    "    matcher.add(\"matching_1\", None, pattern) \n",
    "    matches = matcher(doc)\n",
    "    k = len(matches) - 1\n",
    "    span = doc[matches[k][1]:matches[k][2]] \n",
    "    return(span.text)"
   ]
  },
  {
   "cell_type": "code",
   "execution_count": 29,
   "metadata": {},
   "outputs": [],
   "source": [
    "def get_entities(sent):\n",
    "    ent1 = \"\"\n",
    "    ent2 = \"\"\n",
    "    prv_tok_dep = \"\"    # dependency tag of previous token in the sentence\n",
    "    prv_tok_text = \"\"   # previous token in the sentence\n",
    "    prefix = \"\"\n",
    "    modifier = \"\"\n",
    "    for tok in nlp(sent):\n",
    "        # if token is a punctuation mark then move on to the next token\n",
    "        if tok.dep_ != \"punct\":\n",
    "            # check: token is a compound word or not\n",
    "            if tok.dep_ == \"compound\":\n",
    "                prefix = tok.text\n",
    "                # if the previous word was also a 'compound' then add the current word to it\n",
    "                if prv_tok_dep == \"compound\":\n",
    "                    prefix = prv_tok_text + \" \"+ tok.text\n",
    "            if tok.dep_.endswith(\"mod\") == True:\n",
    "                modifier = tok.text\n",
    "                # if the previous word was also a 'compound' then add the current word to it\n",
    "                if prv_tok_dep == \"compound\":\n",
    "                    modifier = prv_tok_text + \" \"+ tok.text\n",
    "\n",
    "            ## chunk 3\n",
    "            if tok.dep_.find(\"subj\") == True:\n",
    "                ent1 = modifier +\" \"+ prefix + \" \"+ tok.text\n",
    "                prefix = \"\"\n",
    "                modifier = \"\"\n",
    "                prv_tok_dep = \"\"\n",
    "                prv_tok_text = \"\"      \n",
    "\n",
    "            ## chunk 4\n",
    "            if tok.dep_.find(\"obj\") == True:\n",
    "                ent2 = modifier +\" \"+ prefix +\" \"+ tok.text\n",
    "\n",
    "            ## chunk 5  \n",
    "            # update variables\n",
    "            prv_tok_dep = tok.dep_\n",
    "            prv_tok_text = tok.text\n",
    "    return [ent1.strip(), ent2.strip()]"
   ]
  },
  {
   "cell_type": "code",
   "execution_count": 30,
   "metadata": {},
   "outputs": [],
   "source": [
    "def GetDocs(link):\n",
    "    response = requests.get(link)\n",
    "    soup = BeautifulSoup(response.text, \"html.parser\" )\n",
    "    soup=soup.find('div',{'class':'mw-parser-output'})\n",
    "    final_para=[]\n",
    "    for i in soup.find_all('p'):\n",
    "        para=processQues(i.getText()).strip().split(\".\")\n",
    "        for j in para:\n",
    "            p_len=len(j.strip().split(\" \"))\n",
    "            if(p_len < 3):\n",
    "                pass\n",
    "            else:\n",
    "                subs=0\n",
    "                objs=0\n",
    "                doc = nlp(j)\n",
    "                for tok in doc:\n",
    "                    if (tok.dep_==\"nsubj\" or tok.dep_==\"nsubjpass\"):\n",
    "                        subs+=1\n",
    "                    elif tok.dep_==\"pobj\":\n",
    "                        objs+=1\n",
    "                if (subs>1 or objs>1 or subs<1 or objs<1):\n",
    "                    pass\n",
    "                else:\n",
    "                    final_para.append(unicode(j))\n",
    "    data=pd.DataFrame(final_para, columns =['sentence'])\n",
    "    return data"
   ]
  },
  {
   "cell_type": "code",
   "execution_count": 31,
   "metadata": {},
   "outputs": [],
   "source": [
    "def knowledge_graph(link):\n",
    "    data=GetDocs(link)\n",
    "    entity_pairs = []\n",
    "\n",
    "    for i in tqdm(data[\"sentence\"]):\n",
    "        entity_pairs.append(get_entities(i))\n",
    "\n",
    "    relations = [get_relation(i) for i in tqdm(data['sentence'])]\n",
    "    print(relations)\n",
    "    return relations, entity_pairs"
   ]
  },
  {
   "cell_type": "code",
   "execution_count": 32,
   "metadata": {
    "scrolled": true
   },
   "outputs": [
    {
     "name": "stdout",
     "output_type": "stream",
     "text": [
      "Please enter the link\n",
      "https://en.wikipedia.org/wiki/Narendra_Modi\n"
     ]
    },
    {
     "name": "stderr",
     "output_type": "stream",
     "text": [
      "100%|█████████████████████████████████████████████████████████████████████████████████| 48/48 [00:00<00:00, 110.14it/s]\n",
      "100%|█████████████████████████████████████████████████████████████████████████████████| 48/48 [00:00<00:00, 110.90it/s]"
     ]
    },
    {
     "name": "stdout",
     "output_type": "stream",
     "text": [
      "['elected to', 'found', 'received', 'criticised for', 'initiated', 'characters in theatrical', 'put', 'driven to', 'continued', 'gave', 'filed', 'retained', 'continued', 'authored', 'irrigated', 'followed', 'changed', 'benefit', 'attended hindu', 'maintain', 'succeeded', 'played', 'cost', 'started', 'launched', 'resolved', 'ordered', 'lowered corporate', 'deregulated', 'subsumed', 'set', 'linked to', 'launched new', 'viewed', 'rose by', 'launched', 'signed', 'launched', 'plans', 'continued', 'renamed', 'increased', 'lifted', 'maintains', 'described by', 'was of', 'authored', 'continues']\n"
     ]
    },
    {
     "name": "stderr",
     "output_type": "stream",
     "text": [
      "\n"
     ]
    }
   ],
   "source": [
    "print(\"Please enter the link\")\n",
    "link=input()\n",
    "data=knowledge_graph(link)"
   ]
  },
  {
   "cell_type": "code",
   "execution_count": 43,
   "metadata": {},
   "outputs": [
    {
     "data": {
      "image/png": "[encoded data removed]",
      "text/plain": [
       "<Figure size 864x864 with 1 Axes>"
      ]
     },
     "metadata": {},
     "output_type": "display_data"
    }
   ],
   "source": [
    "# extract subject\n",
    "relations=data[0]\n",
    "entity_pairs=data[1]\n",
    "source = [i[0] for i in entity_pairs]\n",
    "\n",
    "# extract object\n",
    "target = [i[1] for i in entity_pairs]\n",
    "\n",
    "kg_df = pd.DataFrame({'source':source, 'target':target, 'edge':relations})\n",
    "\n",
    "#based on filter\n",
    "relation_name='launched new'\n",
    "if(relation_name==\"\"):\n",
    "    G=nx.from_pandas_edgelist(kg_df, \"source\", \"target\",edge_attr=True, create_using=nx.MultiDiGraph())\n",
    "else:\n",
    "    G=nx.from_pandas_edgelist(kg_df[kg_df['edge']==relation_name], \"source\", \"target\", edge_attr=True, create_using=nx.MultiDiGraph())\n",
    "\n",
    "plt.figure(figsize=(12,12))\n",
    "\n",
    "pos = nx.spring_layout(G)\n",
    "nx.draw(G, with_labels=True, node_color='skyblue', edge_cmap=plt.cm.Blues, pos = pos)\n",
    "nx.draw_networkx_edge_labels(G, with_labels=True, node_color='skyblue', edge_cmap=plt.cm.Blues, pos = pos)\n",
    "plt.show()"
   ]
  },
  {
   "cell_type": "code",
   "execution_count": null,
   "metadata": {},
   "outputs": [],
   "source": []
  }
 ],
 "metadata": {
  "kernelspec": {
   "display_name": "Python 3.7 GPU",
   "language": "python",
   "name": "tensorflow"
  },
  "language_info": {
   "codemirror_mode": {
    "name": "ipython",
    "version": 3
   },
   "file_extension": ".py",
   "mimetype": "text/x-python",
   "name": "python",
   "nbconvert_exporter": "python",
   "pygments_lexer": "ipython3",
   "version": "3.7.7"
  }
 },
 "nbformat": 4,
 "nbformat_minor": 4
}
